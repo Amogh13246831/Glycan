{
 "cells": [
  {
   "cell_type": "code",
   "execution_count": 1,
   "metadata": {},
   "outputs": [
    {
     "data": {
      "text/plain": [
       "[(1, 1, -1, 1, -1),\n",
       " (1, 1, 1, -1, -1),\n",
       " (1, -1, -1, 1, 1),\n",
       " (1, -1, 1, -1, 1),\n",
       " (-1, 1, 1, -1, 1),\n",
       " (-1, 1, -1, 1, 1),\n",
       " (1, -1, 1, 1, -1),\n",
       " (-1, 1, 1, 1, -1),\n",
       " (1, 1, -1, -1, 1),\n",
       " (-1, -1, 1, 1, 1)]"
      ]
     },
     "execution_count": 1,
     "metadata": {},
     "output_type": "execute_result"
    }
   ],
   "source": [
    "from itertools import permutations\n",
    "import math\n",
    "from scipy.optimize import fsolve, minimize\n",
    "\n",
    "def replace_zeroes(i):\n",
    "    if i == 0: \n",
    "        return -1\n",
    "    return i\n",
    "\n",
    "def replace_min_1(i):\n",
    "    if i == -1:\n",
    "        return 0\n",
    "    return int(i)\n",
    "\n",
    "def generate_permutations(N, fracs):\n",
    "    arr = []\n",
    "    for i in range(len(fracs)):\n",
    "        arr.extend([i] * int(N*fracs[i])) # add fracs proportion of a species\n",
    "    arr = [replace_zeroes(i) for i in arr]\n",
    "    perms = permutations(arr, len(arr))\n",
    "    return list(set(list(perms)))\n",
    "\n",
    "generate_permutations(5, [0.4, 0.6])"
   ]
  },
  {
   "cell_type": "code",
   "execution_count": 18,
   "metadata": {},
   "outputs": [],
   "source": [
    "def dot(s1, s2):\n",
    "    return int(s1 * s2)\n",
    "\n",
    "def energy(perm, J, h):\n",
    "    e = 0\n",
    "    for i in range(len(perm)):\n",
    "        cur = replace_min_1(perm[i])\n",
    "        nex = replace_min_1(perm[(i+1)%len(perm)])\n",
    "        j = J[cur][nex]\n",
    "        hi = h[cur]\n",
    "        \n",
    "        e += j * dot(perm[i], perm[(i+1)%len(perm)])\n",
    "        e += hi * perm[i]\n",
    "    \n",
    "    return e\n",
    "\n",
    "def prob(perm, J, h):\n",
    "    return math.exp(-energy(perm, J, h))\n",
    "    \n",
    "def entropy(J, h, permutations):\n",
    "    pr = [prob(perm, J, h) for perm in permutations]\n",
    "    tot = sum(pr)\n",
    "    pr = [i/tot for i in pr]\n",
    "    ent = -sum([i*math.log(i) for i in pr])\n",
    "    return ent"
   ]
  },
  {
   "cell_type": "code",
   "execution_count": 19,
   "metadata": {
    "scrolled": true
   },
   "outputs": [
    {
     "name": "stdout",
     "output_type": "stream",
     "text": [
      "Permutations: [(1, 1, -1, 1, -1), (1, 1, 1, -1, -1), (1, -1, -1, 1, 1), (1, -1, 1, -1, 1), (-1, 1, 1, -1, 1), (-1, 1, -1, 1, 1), (1, -1, 1, 1, -1), (-1, 1, 1, 1, -1), (1, 1, -1, -1, 1), (-1, -1, 1, 1, 1)]\n",
      "Energy of (1, 1, -1, 1, -1): -1.25\n",
      "Probability of (1, 1, -1, 1, -1): 3.4903429574618414\n",
      "Entropy: 1.974771767521308\n"
     ]
    }
   ],
   "source": [
    "L = 2\n",
    "N = 5\n",
    "fracs = [0.4, 0.6] \n",
    "J = [[0.5, 0.5], [0.5, 0.5]]\n",
    "h = [0.25] * 2\n",
    "perms = generate_permutations(N, fracs)\n",
    "\n",
    "print(\"Permutations:\", perms)\n",
    "print(\"Energy of {}: {}\".format(perms[0], energy(perms[0], J, h)))\n",
    "print(\"Probability of {}: {}\".format(perms[0], prob(perms[0], J, h)))\n",
    "print(\"Entropy:\", entropy(J, h, perms))"
   ]
  },
  {
   "cell_type": "code",
   "execution_count": 4,
   "metadata": {
    "scrolled": false
   },
   "outputs": [
    {
     "name": "stdout",
     "output_type": "stream",
     "text": [
      "      fun: -3.321928094887361\n",
      " hess_inv: array([[ 1.00000000e+00,  1.13872522e-06,  1.13872522e-06,\n",
      "         1.13872522e-06,  1.13869402e-06,  0.00000000e+00],\n",
      "       [ 1.13872522e-06,  9.23292794e-01, -7.67037903e-02,\n",
      "        -7.67037903e-02, -7.67062609e-02,  0.00000000e+00],\n",
      "       [ 1.13872522e-06, -7.67037903e-02,  9.23299626e-01,\n",
      "        -7.67003741e-02, -7.67028448e-02,  0.00000000e+00],\n",
      "       [ 1.13872522e-06, -7.67037903e-02, -7.67003741e-02,\n",
      "         9.23299626e-01, -7.67028448e-02,  0.00000000e+00],\n",
      "       [ 1.13869402e-06, -7.67062609e-02, -7.67028448e-02,\n",
      "        -7.67028448e-02,  9.23294685e-01,  0.00000000e+00],\n",
      "       [ 0.00000000e+00,  0.00000000e+00,  0.00000000e+00,\n",
      "         0.00000000e+00,  0.00000000e+00,  1.00000000e+00]])\n",
      "      jac: array([0.00000000e+00, 2.98023224e-08, 2.98023224e-08, 2.98023224e-08,\n",
      "       2.98023224e-08, 0.00000000e+00])\n",
      "  message: 'Optimization terminated successfully.'\n",
      "     nfev: 48\n",
      "      nit: 4\n",
      "     njev: 6\n",
      "   status: 0\n",
      "  success: True\n",
      "        x: array([ 0.24999997, -0.18749995,  0.06249996,  0.06249996,  0.06250012,\n",
      "        0.5       ])\n"
     ]
    }
   ],
   "source": [
    "def ent(x, perms, L):\n",
    "    h = x[:L]\n",
    "    J = x[1:]\n",
    "    J = [J[i*L:(i+1)*L] for i in range(L)]\n",
    "    return -entropy(J, h, perms)\n",
    "    \n",
    "x = [0.25] * 2\n",
    "x.extend([0.5]*4)\n",
    "\n",
    "m = minimize(ent, x, args=(perms, 2))\n",
    "print(m)"
   ]
  },
  {
   "cell_type": "code",
   "execution_count": 5,
   "metadata": {
    "scrolled": true
   },
   "outputs": [
    {
     "name": "stdout",
     "output_type": "stream",
     "text": [
      "[ 0.24999997 -0.18749995] [array([0.06249996, 0.06249996]), array([0.06250012, 0.5       ])]\n",
      "\n",
      " [2.2535347280780735, 1.1331483628614263, 1.1331483628614263, 2.2535347280780735, 2.2535347280780735, 2.253534728078074, 2.2535347280780735, 1.133148362861426, 1.133148362861426, 1.133148362861426]\n"
     ]
    }
   ],
   "source": [
    "h = m.x[:L]\n",
    "J = m.x[L:]\n",
    "J = [J[i*L:(i+1)*L] for i in range(L)]\n",
    "\n",
    "print(h, J)\n",
    "\n",
    "pr = [prob(perm, J, h) for perm in perms]\n",
    "print(\"\\n\", pr)"
   ]
  },
  {
   "cell_type": "code",
   "execution_count": 6,
   "metadata": {},
   "outputs": [],
   "source": [
    "def constr(x, perms, W, a1, a2):\n",
    "    h = m.x[:L]\n",
    "    J = m.x[L:]\n",
    "    J = [J[i*L:(i+1)*L] for i in range(L)]\n",
    "    avgs = [[0, 0], [0, 0]]\n",
    "    gl_avgs = [[0, 0], [0, 0]]\n",
    "    \n",
    "    pr = [prob(perm, J, h) for perm in perms]\n",
    "    tot = sum(pr)\n",
    "    pr = [i/tot for i in pr]\n",
    "    \n",
    "    for p in range(len(perms)):\n",
    "        perm = perms[p]\n",
    "        for i in range(len(perm)):\n",
    "            cur, nex = perm[i], perm[(i+1)%len(perm)]\n",
    "            if cur == -1:\n",
    "                if nex == -1:\n",
    "                    avgs[0][0] += dot(cur, nex)\n",
    "                else:\n",
    "                    avgs[0][1] += dot(cur, nex)\n",
    "            else:\n",
    "                if nex == -1:\n",
    "                    avgs[1][0] += dot(cur, nex)\n",
    "                else:\n",
    "                    avgs[1][1] += dot(cur, nex)\n",
    "        for i in range(2):\n",
    "            for j in range(2):\n",
    "                gl_avgs[i][j] += avgs[i][j] * pr[p]\n",
    "                    \n",
    "    con = [[0, 0], [0, 0]]\n",
    "    for i in range(2):\n",
    "        for j in range(2):\n",
    "            gl_avgs[i][j] /= len(perms[0])\n",
    "            con[i][j] += gl_avgs[i][j] - W[i][j]\n",
    "            \n",
    "    return con[a1][a2]\n",
    "\n",
    "def create_constr_dict(perms, W, L):\n",
    "    return [{'type': 'eq', 'fun': constr, 'args': (perms, W, x1, x2)} for x1 in range(L) for x2 in range(L)]"
   ]
  },
  {
   "cell_type": "code",
   "execution_count": 7,
   "metadata": {},
   "outputs": [
    {
     "name": "stdout",
     "output_type": "stream",
     "text": [
      "1.0\n",
      "[{'type': 'eq', 'fun': <function constr at 0x7fc587be1d90>, 'args': ([(1, 1, -1, 1, -1), (1, 1, 1, -1, -1), (1, -1, -1, 1, 1), (1, -1, 1, -1, 1), (-1, 1, 1, -1, 1), (-1, 1, -1, 1, 1), (1, -1, 1, 1, -1), (-1, 1, 1, 1, -1), (1, 1, -1, -1, 1), (-1, -1, 1, 1, 1)], [[1, 1], [1, 1]], 0, 0)}, {'type': 'eq', 'fun': <function constr at 0x7fc587be1d90>, 'args': ([(1, 1, -1, 1, -1), (1, 1, 1, -1, -1), (1, -1, -1, 1, 1), (1, -1, 1, -1, 1), (-1, 1, 1, -1, 1), (-1, 1, -1, 1, 1), (1, -1, 1, 1, -1), (-1, 1, 1, 1, -1), (1, 1, -1, -1, 1), (-1, -1, 1, 1, 1)], [[1, 1], [1, 1]], 0, 1)}, {'type': 'eq', 'fun': <function constr at 0x7fc587be1d90>, 'args': ([(1, 1, -1, 1, -1), (1, 1, 1, -1, -1), (1, -1, -1, 1, 1), (1, -1, 1, -1, 1), (-1, 1, 1, -1, 1), (-1, 1, -1, 1, 1), (1, -1, 1, 1, -1), (-1, 1, 1, 1, -1), (1, 1, -1, -1, 1), (-1, -1, 1, 1, 1)], [[1, 1], [1, 1]], 1, 0)}, {'type': 'eq', 'fun': <function constr at 0x7fc587be1d90>, 'args': ([(1, 1, -1, 1, -1), (1, 1, 1, -1, -1), (1, -1, -1, 1, 1), (1, -1, 1, -1, 1), (-1, 1, 1, -1, 1), (-1, 1, -1, 1, 1), (1, -1, 1, 1, -1), (-1, 1, 1, 1, -1), (1, 1, -1, -1, 1), (-1, -1, 1, 1, 1)], [[1, 1], [1, 1]], 1, 1)}]\n"
     ]
    }
   ],
   "source": [
    "W = [[1, 1], [1, 1]]\n",
    "print(constr(perms, W, J, 1, 1))\n",
    "di = create_constr_dict(perms, W, L)\n",
    "print(di)"
   ]
  },
  {
   "cell_type": "code",
   "execution_count": 8,
   "metadata": {},
   "outputs": [
    {
     "name": "stdout",
     "output_type": "stream",
     "text": [
      "Singular matrix C in LSQ subproblem    (Exit mode 6)\n",
      "            Current function value: -2.9268598593862314\n",
      "            Iterations: 1\n",
      "            Function evaluations: 8\n",
      "            Gradient evaluations: 1\n",
      "     fun: -2.9268598593862314\n",
      "     jac: array([0.        , 0.31844047, 0.31844047, 0.31844047, 0.31844047,\n",
      "       0.        ])\n",
      " message: 'Singular matrix C in LSQ subproblem'\n",
      "    nfev: 8\n",
      "     nit: 1\n",
      "    njev: 1\n",
      "  status: 6\n",
      " success: False\n",
      "       x: array([0.25, 0.25, 0.5 , 0.5 , 0.5 , 0.5 ])\n"
     ]
    }
   ],
   "source": [
    "x = [0.25] * 2\n",
    "x.extend([0.5]*4)\n",
    "\n",
    "m = minimize(ent, x, args=(perms, 2), constraints=di, options={'maxiter':10000, 'disp': True})\n",
    "print(m)"
   ]
  },
  {
   "cell_type": "code",
   "execution_count": 9,
   "metadata": {},
   "outputs": [
    {
     "name": "stdout",
     "output_type": "stream",
     "text": [
      "[[3, 3], [3, 3]] \n",
      "\n",
      "Optimization terminated successfully.\n",
      "         Current function value: 8.678075\n",
      "         Iterations: 33\n",
      "         Function evaluations: 272\n",
      "         Gradient evaluations: 34\n",
      "      fun: 8.678074779862879\n",
      " hess_inv: array([[  93844.57615894,  151754.06704494, -113154.09689428,\n",
      "         -19299.91721025,  -19299.91709736, -452656.451356  ],\n",
      "       [ 151754.06704494,  245400.06566702, -182980.42014027,\n",
      "         -31209.20625151,  -31209.20606896, -731986.48078785],\n",
      "       [-113154.09689428, -182980.42014027,  136438.87889422,\n",
      "          23270.99656865,   23270.99643254,  545800.20780249],\n",
      "       [ -19299.91721025,  -31209.20625151,   23270.99656865,\n",
      "           3969.89865031,    3968.89862709,   93092.61021347],\n",
      "       [ -19299.91709736,  -31209.20606896,   23270.99643254,\n",
      "           3968.89862709,    3969.89860387,   93092.60966896],\n",
      "       [-452656.451356  , -731986.48078785,  545800.20780249,\n",
      "          93092.61021347,   93092.60966896, 2183395.47719692]])\n",
      "      jac: array([ 5.72204590e-06, -8.58306885e-06,  0.00000000e+00,  5.84125519e-06,\n",
      "        5.60283661e-06, -2.86102295e-06])\n",
      "  message: 'Optimization terminated successfully.'\n",
      "     nfev: 272\n",
      "      nit: 33\n",
      "     njev: 34\n",
      "   status: 0\n",
      "  success: True\n",
      "        x: array([-11.96922001, -18.84088618,  14.42731212,   2.2067873 ,\n",
      "         2.20678682,  57.96415166])\n"
     ]
    }
   ],
   "source": [
    "def constr(x, perms, W): # , a1, a2):\n",
    "    h = x[:L]\n",
    "    J = x[L:]\n",
    "    J = [J[i*L:(i+1)*L] for i in range(L)]\n",
    "    avgs = [[0, 0], [0, 0]]\n",
    "    gl_avgs = [[0, 0], [0, 0]]\n",
    "    \n",
    "    for perm in perms:\n",
    "        for i in range(len(perm)):\n",
    "            cur, nex = perm[i], perm[(i+1)%len(perm)]\n",
    "            if cur == -1:\n",
    "                if nex == -1:\n",
    "                    avgs[0][0] += dot(cur, nex)\n",
    "                else:\n",
    "                    avgs[0][1] += dot(cur, nex)\n",
    "            else:\n",
    "                if nex == -1:\n",
    "                    avgs[1][0] += dot(cur, nex)\n",
    "                else:\n",
    "                    avgs[1][1] += dot(cur, nex)\n",
    "        for i in range(2):\n",
    "            for j in range(2):\n",
    "                gl_avgs[i][j] += avgs[i][j] * prob(perm, J, h)\n",
    "                    \n",
    "    con = [[0, 0], [0, 0]]\n",
    "    for i in range(2):\n",
    "        for j in range(2):\n",
    "            gl_avgs[i][j] /= len(perms[0])\n",
    "            con[i][j] += gl_avgs[i][j] - W[i][j]\n",
    "            \n",
    "    return con # con[a1][a2]\n",
    "\n",
    "def lagrange(x, perms, L, W, Lmd):\n",
    "    entropy = ent(x, perms, L)\n",
    "    con = constr(x, perms, W)\n",
    "    for i in range(2):\n",
    "        for j in range(2):\n",
    "            entropy += con[i][j]**2 * Lmd[i][j]\n",
    "    return entropy\n",
    "\n",
    "Lmd = [[3]*2 for _ in range(2)]\n",
    "print(Lmd, \"\\n\")\n",
    "m = minimize(lagrange, x, args=(perms, 2, W, Lmd), options={'maxiter':1000, 'disp': True})\n",
    "print(m)"
   ]
  },
  {
   "cell_type": "code",
   "execution_count": 10,
   "metadata": {},
   "outputs": [
    {
     "name": "stdout",
     "output_type": "stream",
     "text": [
      "[-11.96922001 -18.84088618] [array([14.42731212,  2.2067873 ]), array([ 2.20678682, 57.96415166])]\n",
      "((1, 1, -1, 1, -1), 6.474658267681952e-08)\n",
      "((1, 1, 1, -1, -1), 2.852414973068351e-41)\n",
      "((1, -1, -1, 1, 1), 2.85241497306831e-41)\n",
      "((1, -1, 1, -1, 1), 6.474658267681952e-08)\n",
      "((-1, 1, 1, -1, 1), 6.474658267681952e-08)\n",
      "((-1, 1, -1, 1, 1), 6.474658267681952e-08)\n",
      "((1, -1, 1, 1, -1), 6.474658267681883e-08)\n",
      "((-1, 1, 1, 1, -1), 2.852414973068351e-41)\n",
      "((1, 1, -1, -1, 1), 2.852414973068351e-41)\n",
      "((-1, -1, 1, 1, 1), 2.852414973068351e-41)\n"
     ]
    }
   ],
   "source": [
    "h = m.x[:L]\n",
    "J = m.x[L:]\n",
    "J = [J[i*L:(i+1)*L] for i in range(L)]\n",
    "\n",
    "print(h, J)\n",
    "\n",
    "pr = [(perm, prob(perm, J, h)) for perm in perms]\n",
    "for p in pr:\n",
    "    print(p)"
   ]
  },
  {
   "cell_type": "code",
   "execution_count": 11,
   "metadata": {},
   "outputs": [
    {
     "name": "stdout",
     "output_type": "stream",
     "text": [
      "[[-0.9999998964054677, -1.0000004920740284], [-1.0000004920740284, -0.9999995985711874]]\n"
     ]
    }
   ],
   "source": [
    "con = constr(m.x, perms, W)\n",
    "print(con)"
   ]
  },
  {
   "cell_type": "code",
   "execution_count": null,
   "metadata": {},
   "outputs": [],
   "source": []
  }
 ],
 "metadata": {
  "kernelspec": {
   "display_name": "Python 3",
   "language": "python",
   "name": "python3"
  },
  "language_info": {
   "codemirror_mode": {
    "name": "ipython",
    "version": 3
   },
   "file_extension": ".py",
   "mimetype": "text/x-python",
   "name": "python",
   "nbconvert_exporter": "python",
   "pygments_lexer": "ipython3",
   "version": "3.7.1"
  }
 },
 "nbformat": 4,
 "nbformat_minor": 2
}
