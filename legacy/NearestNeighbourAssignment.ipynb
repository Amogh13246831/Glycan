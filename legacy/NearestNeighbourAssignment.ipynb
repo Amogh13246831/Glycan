{
 "cells": [
  {
   "cell_type": "code",
   "execution_count": 1,
   "metadata": {},
   "outputs": [],
   "source": [
    "import numpy as np\n",
    "from scipy.optimize import minimize \n",
    "from scipy.stats import entropy"
   ]
  },
  {
   "cell_type": "code",
   "execution_count": 65,
   "metadata": {},
   "outputs": [],
   "source": [
    "# L : number of glycan types\n",
    "# N : number of lattice points\n",
    "# P = [p(1,1),...,p(1,N), ... ,p(L,1),...,p(L,N)]  (LN in row-major order)\n",
    "# W = [[w11,...,w1N], ... ,[wL1,...,wLL]]          (LxL)\n",
    "\n",
    "def total_entropy(P, L, N):\n",
    "    return np.sum([entropy(P[i*N:(i+1)*N]) for i in range(L)])\n",
    "\n",
    "def neg_total_entropy(P, L, N):\n",
    "    return -np.sum([entropy(P[i*N:(i+1)*N]) for i in range(L)])\n",
    "\n",
    "def P_neigh(P, N, t, x):  # probability that type t neighbours location x, with bounds checking on x\n",
    "    if x == 0:\n",
    "        return P[t][x+1]\n",
    "    elif x == N-1:\n",
    "        return P[t][x-1]\n",
    "    else:\n",
    "        return P[t][x-1] + P[t][x+1]\n",
    "\n",
    "def neighbour_constr_1D(P, *args):  # p(t1||t2) = Sum([p(t1,x)*(p(t2,x-1)+p(t2,x+1)) for x from 1 to N])\n",
    "    L, N, W, t1, t2 = args\n",
    "    Pt = np.array([P[i*N:(i+1)*N] for i in range(L)]) \n",
    "    \n",
    "    n_prob = np.sum(np.array([P_neigh(Pt, N, t2, i)*Pt[t1][i] for i in range(N)]))\n",
    "    return n_prob - W[t1][t2]\n",
    "\n",
    "def Jacobian_1D(P, *args):\n",
    "    L, N, W, t1, t2 = args\n",
    "    Pt = np.array([P[i*N:(i+1)*N] for i in range(L)]) \n",
    "    jac = np.zeros(L*N)\n",
    "    \n",
    "    for x in range(N):\n",
    "        jac[t1*N + x] = P_neigh(Pt, N, t2, x)\n",
    "        jac[t2*N + x] = P_neigh(Pt, N, t1, x)\n",
    "    \n",
    "    return jac  \n",
    "\n",
    "def create_constraint_dicts_1D(P, L, N, W):\n",
    "    return [{'type': 'eq', 'fun': neighbour_constr_1D, 'args': (L, N, W, t1, t2)} \n",
    "            for t1 in range(L) for t2 in range(L)]          "
   ]
  },
  {
   "cell_type": "code",
   "execution_count": 66,
   "metadata": {},
   "outputs": [
    {
     "name": "stdout",
     "output_type": "stream",
     "text": [
      "Total Entropy Function Tests\n",
      "[1, 0], [0, 1] => 0.0\n",
      "[1, 0, 0, 1] => 0.6931471805599453\n",
      "[1, 1, 1, 1] => 1.3862943611198906\n",
      "scipy entropy [1, 1, 1, 1] => 1.3862943611198906\n",
      "scipy entropy [0.25, 0.25, 0.25, 0.25] => 1.3862943611198906\n"
     ]
    }
   ],
   "source": [
    "# verification\n",
    "\n",
    "print(\"Total Entropy Function Tests\")\n",
    "print(\"[1, 0], [0, 1] =>\", total_entropy(P=[1, 0, 0, 1], L=2, N=2))\n",
    "print(\"[1, 0, 0, 1] =>\", total_entropy(P=[1, 0, 0, 1], L=1, N=4))\n",
    "print(\"[1, 1, 1, 1] =>\", total_entropy(P=[1, 1, 1, 1], L=1, N=4))\n",
    "print(\"scipy entropy [1, 1, 1, 1] =>\", entropy([1, 1, 1, 1]))\n",
    "print(\"scipy entropy [0.25, 0.25, 0.25, 0.25] =>\", entropy([0.25, 0.25, 0.25, 0.25]))"
   ]
  },
  {
   "cell_type": "code",
   "execution_count": 67,
   "metadata": {},
   "outputs": [
    {
     "name": "stdout",
     "output_type": "stream",
     "text": [
      "Dictionary Verification Tests\n",
      "L = 2\n",
      "N = 3\n",
      "P = [0.5 0.5 0.5 0.5 0.5 0.5]\n",
      "W = [[0.1 0.9]\n",
      " [0.7 0.3]]\n",
      "\n",
      "Dictionaries created:\n",
      "[{'type': 'eq', 'fun': <function neighbour_constr_1D at 0x7f5aaa7efea0>, 'args': (2, 3, array([[0.1, 0.9],\n",
      "       [0.7, 0.3]]), 0, 0)}, {'type': 'eq', 'fun': <function neighbour_constr_1D at 0x7f5aaa7efea0>, 'args': (2, 3, array([[0.1, 0.9],\n",
      "       [0.7, 0.3]]), 0, 1)}, {'type': 'eq', 'fun': <function neighbour_constr_1D at 0x7f5aaa7efea0>, 'args': (2, 3, array([[0.1, 0.9],\n",
      "       [0.7, 0.3]]), 1, 0)}, {'type': 'eq', 'fun': <function neighbour_constr_1D at 0x7f5aaa7efea0>, 'args': (2, 3, array([[0.1, 0.9],\n",
      "       [0.7, 0.3]]), 1, 1)}]\n",
      "\n",
      "Jacobian for f(1, 0):\n",
      "[0.5 1.  0.5 0.5 1.  0.5]\n"
     ]
    }
   ],
   "source": [
    "print(\"Dictionary Verification Tests\")\n",
    "L = 2\n",
    "N = 3\n",
    "P = np.asarray([0.5] * (L*N))\n",
    "W = np.array([[0.1, 0.9], [0.7, 0.3]])\n",
    "constr = create_constraint_dicts_1D(P, L, N, W)\n",
    "print(\"L = {}\\nN = {}\\nP = {}\\nW = {}\\n\".format(L, N, P, W))\n",
    "print(\"Dictionaries created:\", constr, sep=\"\\n\")\n",
    "\n",
    "print(\"\\nJacobian for f(1, 0):\")\n",
    "print(Jacobian_1D(P, L, N, W, 1, 0))"
   ]
  },
  {
   "cell_type": "code",
   "execution_count": 68,
   "metadata": {},
   "outputs": [
    {
     "data": {
      "text/plain": [
       "     fun: -2.197224577336219\n",
       "     jac: array([0., 0., 0., 0., 0., 0.])\n",
       " message: 'Singular matrix C in LSQ subproblem'\n",
       "    nfev: 8\n",
       "     nit: 1\n",
       "    njev: 1\n",
       "  status: 6\n",
       " success: False\n",
       "       x: array([0.5, 0.5, 0.5, 0.5, 0.5, 0.5])"
      ]
     },
     "execution_count": 68,
     "metadata": {},
     "output_type": "execute_result"
    }
   ],
   "source": [
    "# minimization tests\n",
    "\n",
    "minimize(neg_total_entropy, P, args=(L, N), constraints=constr)"
   ]
  },
  {
   "cell_type": "code",
   "execution_count": 69,
   "metadata": {},
   "outputs": [],
   "source": [
    "from scipy.optimize import root, fsolve\n",
    "import math\n",
    "    \n",
    "def safelog(x):\n",
    "    if x <= 0:\n",
    "        return 0\n",
    "    return math.log(x)\n",
    "\n",
    "def lj(x, L, N, W):\n",
    "    P, Lmd = x[:L*N], x[L*N:]\n",
    "    # transform to 2D array \n",
    "    Pt = np.array([P[i*N:(i+1)*N] for i in range(L)])\n",
    "    Lmd = np.array([Lmd[i*L:(i+1)*L] for i in range(L)])\n",
    "    \n",
    "    dLdp = np.zeros(L*N)\n",
    "    dLdLmd = np.zeros(L*L)\n",
    "    \n",
    "    for t in range(L):\n",
    "        for i in range(N):\n",
    "            dLdp[t*N + i] = 1 + safelog(Pt[t][i])  # prevent bounds error \n",
    "            dLdp[t*N + i] += np.sum(np.array([(Lmd[t][t1]+Lmd[t1][t])*P_neigh(Pt, N, t1, i) for t1 in range(L)]))\n",
    "    \n",
    "    for t1 in range(L):\n",
    "        for t2 in range(L):\n",
    "            dLdLmd[t1*L + t2] = np.sum(np.array([Pt[t1][i]*P_neigh(Pt, N, t2, i) for i in range(N)]))\n",
    "            dLdLmd -= W[t1][t2]\n",
    "            \n",
    "    return np.append(dLdp, dLdLmd)"
   ]
  },
  {
   "cell_type": "code",
   "execution_count": 70,
   "metadata": {},
   "outputs": [
    {
     "name": "stdout",
     "output_type": "stream",
     "text": [
      "L = 2\n",
      "N = 3\n",
      "P = [0.7 0.7 0.7 0.7 0.7 0.7]\n",
      "Lmd = [1. 1. 1. 1.]\n",
      "W = [[1 0]\n",
      " [0 1]]\n",
      "x = [0.7 0.7 0.7 0.7 0.7 0.7 1.  1.  1.  1. ]\n",
      "\n"
     ]
    },
    {
     "data": {
      "text/plain": [
       "array([ 3.44332506,  6.24332506,  3.44332506,  3.44332506,  6.24332506,\n",
       "        3.44332506, -0.04      ,  0.96      ,  0.96      ,  0.96      ])"
      ]
     },
     "execution_count": 70,
     "metadata": {},
     "output_type": "execute_result"
    }
   ],
   "source": [
    "L = 2\n",
    "N = 3\n",
    "P = np.asarray([0.7] * (L*N))\n",
    "Lmd = np.ones(L*L)\n",
    "W = np.array([[1, 0], [0, 1]])\n",
    "x = np.append(P, Lmd)\n",
    "print(\"L = {}\\nN = {}\\nP = {}\\nLmd = {}\\nW = {}\\nx = {}\\n\".format(L, N, P, Lmd, W, x))\n",
    "\n",
    "lj(x, L, N, W)"
   ]
  },
  {
   "cell_type": "code",
   "execution_count": 71,
   "metadata": {
    "scrolled": true
   },
   "outputs": [
    {
     "data": {
      "text/plain": [
       "    fjac: array([[-3.05071084e-01,  5.64885558e-01,  0.00000000e+00,\n",
       "         0.00000000e+00, -7.01020582e-01,  0.00000000e+00,\n",
       "        -2.83616757e-01, -8.93521605e-02, -8.93521651e-02,\n",
       "         0.00000000e+00],\n",
       "       [-3.74996687e-01,  1.12982557e-01, -4.09282711e-01,\n",
       "         5.07918099e-01,  7.87856008e-02,  5.07918099e-01,\n",
       "         3.59991035e-01,  1.16914029e-01,  1.16914033e-01,\n",
       "         0.00000000e+00],\n",
       "       [ 6.66276426e-01,  1.22026508e-01, -7.14214828e-01,\n",
       "        -1.26147067e-02, -1.56873398e-01, -1.26147067e-02,\n",
       "        -7.16164861e-02, -2.26493849e-02, -2.26493859e-02,\n",
       "         0.00000000e+00],\n",
       "       [-3.75370274e-01,  2.66424225e-02, -3.75370274e-01,\n",
       "        -4.44234219e-01,  3.94594117e-01,  1.68977678e-01,\n",
       "        -3.35609815e-01, -2.90253153e-01, -2.90253159e-01,\n",
       "        -2.33997317e-01],\n",
       "       [ 1.19993176e-01, -5.13789672e-01,  1.19993176e-01,\n",
       "         4.46895802e-01, -2.45379401e-01,  2.81807801e-01,\n",
       "        -3.55322728e-01, -3.02439921e-01, -3.02439934e-01,\n",
       "        -2.42253676e-01],\n",
       "       [-1.97838267e-01,  8.00545594e-02, -1.97838267e-01,\n",
       "         5.17415775e-01,  2.23548716e-01, -7.46196951e-01,\n",
       "        -1.16444232e-01, -1.01342351e-01, -1.01342352e-01,\n",
       "        -8.19054457e-02],\n",
       "       [ 3.57564635e-01,  6.18067419e-01,  3.57564635e-01,\n",
       "         2.30276243e-01,  4.03035131e-01,  2.30276243e-01,\n",
       "        -4.57664949e-02, -1.65083012e-01, -1.65083017e-01,\n",
       "        -1.92864563e-01],\n",
       "       [ 9.52815750e-03, -1.19345503e-02,  9.52815750e-03,\n",
       "        -1.55090907e-01, -2.22318639e-01, -1.55090907e-01,\n",
       "         6.67416816e-01, -2.41119352e-01, -2.41119356e-01,\n",
       "        -5.83456722e-01],\n",
       "       [-6.35073460e-04,  7.95465037e-04, -6.35073460e-04,\n",
       "         8.67806655e-04, -1.10394921e-03,  8.67806655e-04,\n",
       "         2.91293386e-01, -4.54564561e-01, -4.54184623e-01,\n",
       "         7.08682854e-01],\n",
       "       [-1.71377883e-07,  2.14660386e-07, -1.71377883e-07,\n",
       "         2.31369259e-07, -2.94383145e-07,  2.31369259e-07,\n",
       "         7.82626706e-05,  7.06984691e-01, -7.07228820e-01,\n",
       "         1.90397622e-04]])\n",
       "     fun: array([-0.00451229,  0.0005819 , -0.0045123 , -0.00063737,  0.00900979,\n",
       "       -0.00063737, -0.13857278,  0.19020835,  0.19020835, -0.2391379 ])\n",
       " message: 'The iteration is not making good progress, as measured by the \\n  improvement from the last five Jacobian evaluations.'\n",
       "    nfev: 164\n",
       "     qtf: array([ 2.37945655e-02, -7.78666003e-04,  5.27763881e-03, -1.11637751e-02,\n",
       "       -1.50774212e-02, -3.44777917e-03, -2.18468676e-03, -4.70072333e-02,\n",
       "       -3.82695065e-01, -1.02813160e-04])\n",
       "       r: array([-5.38080301e+00,  8.34642043e-01, -4.88002048e+00,  6.29805071e+00,\n",
       "       -2.82654461e+00,  6.29805072e+00,  9.10922978e-01, -5.52440528e-01,\n",
       "       -5.52440530e-01, -1.11277897e+00,  7.42649983e+00, -5.62814485e-02,\n",
       "        1.40082346e+00, -8.74589856e+00,  1.40082346e+00, -9.21566958e-01,\n",
       "        5.83718971e-01,  5.83718973e-01,  1.10186232e+00, -2.26611423e+00,\n",
       "        1.35699845e+00, -4.07416516e-01,  1.35699845e+00,  2.24190575e-01,\n",
       "       -1.36579665e-01, -1.36579666e-01, -2.73276027e-01, -4.10933242e+00,\n",
       "       -1.39999755e+00, -2.56410495e+00, -1.08077354e+00, -6.90681335e-02,\n",
       "       -6.90681337e-02,  3.61687632e-01, -5.20022744e+00, -4.16003854e-01,\n",
       "       -8.85739719e-01, -3.53375309e-02, -3.53375312e-02,  3.11193664e-01,\n",
       "       -3.18416700e+00, -4.08763051e-01, -2.89009426e-02, -2.89009426e-02,\n",
       "        1.34864754e-01,  2.59742755e+00,  1.67684548e+00,  1.67684548e+00,\n",
       "        1.08262057e+00, -5.07860327e-01, -5.07860328e-01, -6.51164303e-01,\n",
       "        3.86738598e-13, -8.34572475e-05, -2.23381863e-08])\n",
       "  status: 4\n",
       " success: False\n",
       "       x: array([ 0.60990493,  0.76299893,  0.60990493,  0.39571324,  0.48069032,\n",
       "        0.39571324, -1.52199881,  0.65384946,  3.11678358, -3.06908703])"
      ]
     },
     "execution_count": 71,
     "metadata": {},
     "output_type": "execute_result"
    }
   ],
   "source": [
    "root(lj, x, args=(L, N, W))"
   ]
  },
  {
   "cell_type": "code",
   "execution_count": 72,
   "metadata": {
    "scrolled": true
   },
   "outputs": [
    {
     "data": {
      "text/plain": [
       "array([ 0.60990493,  0.76299893,  0.60990493,  0.39571324,  0.48069032,\n",
       "        0.39571324, -1.52199881,  0.65384946,  3.11678358, -3.06908703])"
      ]
     },
     "execution_count": 72,
     "metadata": {},
     "output_type": "execute_result"
    }
   ],
   "source": [
    "fsolve(lj, x, args=(L, N, W))"
   ]
  },
  {
   "cell_type": "code",
   "execution_count": null,
   "metadata": {},
   "outputs": [],
   "source": []
  }
 ],
 "metadata": {
  "kernelspec": {
   "display_name": "Python 3",
   "language": "python",
   "name": "python3"
  },
  "language_info": {
   "codemirror_mode": {
    "name": "ipython",
    "version": 3
   },
   "file_extension": ".py",
   "mimetype": "text/x-python",
   "name": "python",
   "nbconvert_exporter": "python",
   "pygments_lexer": "ipython3",
   "version": "3.7.1"
  }
 },
 "nbformat": 4,
 "nbformat_minor": 2
}
