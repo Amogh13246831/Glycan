{
 "cells": [
  {
   "cell_type": "code",
   "execution_count": 1,
   "metadata": {},
   "outputs": [],
   "source": [
    "from itertools import permutations\n",
    "import numpy as np\n",
    "import math\n",
    "from scipy.optimize import minimize"
   ]
  },
  {
   "cell_type": "code",
   "execution_count": 2,
   "metadata": {},
   "outputs": [],
   "source": [
    "class Proportion:\n",
    "    \n",
    "    def __init__(self, v, f):\n",
    "        self.value = v\n",
    "        self.fraction = f\n",
    "\n",
    "def get_composition(vals, fracs):\n",
    "    return [Proportion(vals[i], fracs[i]) for i in range(len(vals))]\n",
    "        \n",
    "def generate_permutations(composition, N):\n",
    "    arr = []\n",
    "    for i in composition:\n",
    "        arr.extend([i.value] * int(N*i.fraction)) # add fracs proportion of a species\n",
    "    perms = permutations(arr, len(arr))\n",
    "    return tuple(set(list(perms)))\n",
    "\n",
    "def get_neighbour_counts(permutations, composition):  # use P(N)*LxL instead of P(N)*N (since LxL < N ???)\n",
    "    L = len(composition)\n",
    "    nc = []\n",
    "    elems = {composition[i].value: i for i in range(L)}\n",
    "\n",
    "    for perm in permutations:\n",
    "        neigh = [[0]*L for _i in range(L)]\n",
    "        for i in range(len(perm)):\n",
    "            cur, nex = perm[i], perm[(i+1)%len(perm)]\n",
    "            neigh[elems[cur]][elems[nex]] += 1\n",
    "        nc.append(neigh)\n",
    "        \n",
    "    return np.asarray(nc)\n",
    "    \n",
    "\n",
    "def calculate_entropy(x, composition, counts, N, L):\n",
    "    h = x[:L]\n",
    "    J = x[L:]\n",
    "    J = J.reshape(L, L)\n",
    "    \n",
    "    neigh = np.array([[composition[i].value*composition[j].value for j in range(len(composition))] \n",
    "             for i in range(len(composition))])\n",
    "   \n",
    "    eta = np.sum(h * np.asarray([i.value*i.fraction for i in composition]) * N)\n",
    "    jp = counts * J * neigh\n",
    "    \n",
    "    s = np.sum(jp, axis=(1, 2))\n",
    "    eps = np.vectorize(lambda x: math.exp(-x))\n",
    "    s_eps = np.vectorize(lambda x: x*math.exp(-x))\n",
    "    \n",
    "    print(eta, math.exp(-eta), jp, s, eps(s), s_eps(s), np.sum(s_eps(s)), sep=\"\\n\\n\")\n",
    "    \n",
    "    return math.exp(-eta) * (np.sum(s_eps(s)) + (eta * np.sum(eps(s)))) "
   ]
  },
  {
   "cell_type": "code",
   "execution_count": 3,
   "metadata": {},
   "outputs": [
    {
     "name": "stdout",
     "output_type": "stream",
     "text": [
      "[(-1, 0.4), (1, 0.6)]\n"
     ]
    }
   ],
   "source": [
    "comp = get_composition([-1, 1], [0.4, 0.6])\n",
    "print([(i.value, i.fraction) for i in comp])"
   ]
  },
  {
   "cell_type": "code",
   "execution_count": 4,
   "metadata": {
    "scrolled": true
   },
   "outputs": [
    {
     "data": {
      "text/plain": [
       "((1, 1, -1, 1, -1),\n",
       " (1, 1, 1, -1, -1),\n",
       " (1, -1, -1, 1, 1),\n",
       " (1, -1, 1, -1, 1),\n",
       " (-1, 1, 1, -1, 1),\n",
       " (-1, 1, -1, 1, 1),\n",
       " (1, -1, 1, 1, -1),\n",
       " (-1, 1, 1, 1, -1),\n",
       " (1, 1, -1, -1, 1),\n",
       " (-1, -1, 1, 1, 1))"
      ]
     },
     "execution_count": 4,
     "metadata": {},
     "output_type": "execute_result"
    }
   ],
   "source": [
    "perms = generate_permutations(comp, 5)\n",
    "perms"
   ]
  },
  {
   "cell_type": "code",
   "execution_count": 5,
   "metadata": {
    "scrolled": false
   },
   "outputs": [
    {
     "name": "stdout",
     "output_type": "stream",
     "text": [
      "[[[0 2]\n",
      "  [2 1]]\n",
      "\n",
      " [[1 1]\n",
      "  [1 2]]\n",
      "\n",
      " [[1 1]\n",
      "  [1 2]]\n",
      "\n",
      " [[0 2]\n",
      "  [2 1]]\n",
      "\n",
      " [[0 2]\n",
      "  [2 1]]\n",
      "\n",
      " [[0 2]\n",
      "  [2 1]]\n",
      "\n",
      " [[0 2]\n",
      "  [2 1]]\n",
      "\n",
      " [[1 1]\n",
      "  [1 2]]\n",
      "\n",
      " [[1 1]\n",
      "  [1 2]]\n",
      "\n",
      " [[1 1]\n",
      "  [1 2]]]\n"
     ]
    },
    {
     "data": {
      "text/plain": [
       "array([5, 5, 5, 5, 5, 5, 5, 5, 5, 5])"
      ]
     },
     "execution_count": 5,
     "metadata": {},
     "output_type": "execute_result"
    }
   ],
   "source": [
    "nc = get_neighbour_counts(perms, comp)\n",
    "print(nc)\n",
    "np.sum(nc, axis=(1, 2))"
   ]
  },
  {
   "cell_type": "code",
   "execution_count": 6,
   "metadata": {},
   "outputs": [
    {
     "name": "stdout",
     "output_type": "stream",
     "text": [
      "0.25\n",
      "\n",
      "0.7788007830714049\n",
      "\n",
      "[[[ 0.  -1. ]\n",
      "  [-1.   0.5]]\n",
      "\n",
      " [[ 0.5 -0.5]\n",
      "  [-0.5  1. ]]\n",
      "\n",
      " [[ 0.5 -0.5]\n",
      "  [-0.5  1. ]]\n",
      "\n",
      " [[ 0.  -1. ]\n",
      "  [-1.   0.5]]\n",
      "\n",
      " [[ 0.  -1. ]\n",
      "  [-1.   0.5]]\n",
      "\n",
      " [[ 0.  -1. ]\n",
      "  [-1.   0.5]]\n",
      "\n",
      " [[ 0.  -1. ]\n",
      "  [-1.   0.5]]\n",
      "\n",
      " [[ 0.5 -0.5]\n",
      "  [-0.5  1. ]]\n",
      "\n",
      " [[ 0.5 -0.5]\n",
      "  [-0.5  1. ]]\n",
      "\n",
      " [[ 0.5 -0.5]\n",
      "  [-0.5  1. ]]]\n",
      "\n",
      "[-1.5  0.5  0.5 -1.5 -1.5 -1.5 -1.5  0.5  0.5  0.5]\n",
      "\n",
      "[4.48168907 0.60653066 0.60653066 4.48168907 4.48168907 4.48168907\n",
      " 4.48168907 0.60653066 0.60653066 0.60653066]\n",
      "\n",
      "[-6.72253361  0.30326533  0.30326533 -6.72253361 -6.72253361 -6.72253361\n",
      " -6.72253361  0.30326533  0.30326533  0.30326533]\n",
      "\n",
      "-32.0963413782539\n"
     ]
    },
    {
     "data": {
      "text/plain": [
       "-20.043268911357707"
      ]
     },
     "execution_count": 6,
     "metadata": {},
     "output_type": "execute_result"
    }
   ],
   "source": [
    "x = [0.25, 0.25]\n",
    "x.extend([0.5]*4)\n",
    "\n",
    "ent = calculate_entropy(np.array(x), comp, nc, 5, 2)\n",
    "ent"
   ]
  }
 ],
 "metadata": {
  "kernelspec": {
   "display_name": "Python 3",
   "language": "python",
   "name": "python3"
  },
  "language_info": {
   "codemirror_mode": {
    "name": "ipython",
    "version": 3
   },
   "file_extension": ".py",
   "mimetype": "text/x-python",
   "name": "python",
   "nbconvert_exporter": "python",
   "pygments_lexer": "ipython3",
   "version": "3.7.1"
  }
 },
 "nbformat": 4,
 "nbformat_minor": 2
}
