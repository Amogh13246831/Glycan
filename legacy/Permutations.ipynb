{
 "cells": [
  {
   "cell_type": "code",
   "execution_count": 36,
   "metadata": {},
   "outputs": [],
   "source": [
    "def permutations(mols):\n",
    "    mt = tuple(mols)\n",
    "    n = len(mt)\n",
    "    indices = list(range(n))\n",
    "    cycles = list(range(n, 0, -1))\n",
    "    \n",
    "    print(indices, cycles)\n",
    "    \n",
    "    yield tuple(mt[i] for i in indices[:n])\n",
    "    while n:\n",
    "        for i in reversed(range(n)):\n",
    "            print(cycles, indices)\n",
    "            cycles[i] -= 1\n",
    "            if cycles[i] == 0:\n",
    "                indices[i:] = indices[i+1:] + indices[i:i+1]\n",
    "                cycles[i] = n - i\n",
    "            else:\n",
    "                j = cycles[i]\n",
    "                print(indices[i], indices[-j])\n",
    "                indices[i], indices[-j] = indices[-j], indices[i]\n",
    "                print(cycles, indices)\n",
    "                yield tuple(mt[i] for i in indices[:n])\n",
    "                break\n",
    "        else:\n",
    "            return"
   ]
  },
  {
   "cell_type": "code",
   "execution_count": 35,
   "metadata": {},
   "outputs": [
    {
     "name": "stdout",
     "output_type": "stream",
     "text": [
      "[0, 1, 2] [3, 2, 1]\n",
      "[3, 2, 1] [0, 1, 2]\n",
      "[3, 2, 1] [0, 1, 2]\n",
      "1 2\n",
      "[3, 1, 1] [0, 2, 1]\n",
      "[3, 1, 1] [0, 2, 1]\n",
      "[3, 1, 1] [0, 2, 1]\n",
      "[3, 2, 1] [0, 1, 2]\n",
      "0 1\n",
      "[2, 2, 1] [1, 0, 2]\n",
      "[2, 2, 1] [1, 0, 2]\n",
      "[2, 2, 1] [1, 0, 2]\n",
      "0 2\n",
      "[2, 1, 1] [1, 2, 0]\n",
      "[2, 1, 1] [1, 2, 0]\n",
      "[2, 1, 1] [1, 2, 0]\n",
      "[2, 2, 1] [1, 0, 2]\n",
      "1 2\n",
      "[1, 2, 1] [2, 0, 1]\n",
      "[1, 2, 1] [2, 0, 1]\n",
      "[1, 2, 1] [2, 0, 1]\n",
      "0 1\n",
      "[1, 1, 1] [2, 1, 0]\n",
      "[1, 1, 1] [2, 1, 0]\n",
      "[1, 1, 1] [2, 1, 0]\n",
      "[1, 2, 1] [2, 0, 1]\n"
     ]
    },
    {
     "data": {
      "text/plain": [
       "[(1, 2, 2), (1, 2, 2), (2, 1, 2), (2, 2, 1), (2, 1, 2), (2, 2, 1)]"
      ]
     },
     "execution_count": 35,
     "metadata": {},
     "output_type": "execute_result"
    }
   ],
   "source": [
    "list(permutations([1, 2, 2]))"
   ]
  },
  {
   "cell_type": "code",
   "execution_count": null,
   "metadata": {},
   "outputs": [],
   "source": []
  }
 ],
 "metadata": {
  "kernelspec": {
   "display_name": "Python 3",
   "language": "python",
   "name": "python3"
  },
  "language_info": {
   "codemirror_mode": {
    "name": "ipython",
    "version": 3
   },
   "file_extension": ".py",
   "mimetype": "text/x-python",
   "name": "python",
   "nbconvert_exporter": "python",
   "pygments_lexer": "ipython3",
   "version": "3.7.1"
  }
 },
 "nbformat": 4,
 "nbformat_minor": 2
}
