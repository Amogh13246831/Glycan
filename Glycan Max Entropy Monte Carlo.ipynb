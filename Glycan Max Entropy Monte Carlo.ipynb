{
 "cells": [
  {
   "cell_type": "code",
   "execution_count": 1,
   "metadata": {},
   "outputs": [],
   "source": [
    "from itertools import permutations\n",
    "import numpy as np\n",
    "import math\n",
    "import random\n",
    "from scipy.optimize import fsolve, root"
   ]
  },
  {
   "cell_type": "code",
   "execution_count": 2,
   "metadata": {},
   "outputs": [],
   "source": [
    "def all_permutations(N, perm, i, vals=[-1, 1]):\n",
    "    if i == N:\n",
    "        yield perm\n",
    "        return\n",
    "    for val in vals:\n",
    "        perm[i] = val\n",
    "        yield from all_permutations(N, perm.copy(), i+1, vals)\n",
    "\n",
    "def neighbour_sum(perm):\n",
    "    ns = 0\n",
    "    N = len(perm)\n",
    "    for i in range(N):\n",
    "            cur, nex = perm[i], perm[(i+1)%N]\n",
    "            ns += cur * nex\n",
    "    return ns / N\n",
    "\n",
    "def self_sum(perm):\n",
    "    return np.sum(perm) / len(perm)\n",
    "\n",
    "def perm_eqns(nsum, ssum, lmd, mu, beta):\n",
    "    base = math.exp(lmd*nsum + mu*ssum + beta - 1)\n",
    "    return np.array([base*nsum, base*ssum, base])\n",
    "\n",
    "def next_random_permutation(N, vals, lmd=1, mu=1, beta=1, eps=100): # choose permutations intelligently\n",
    "    while True:\n",
    "        perm = np.array(random.choices(vals, k=N))\n",
    "        ns, ss = neighbour_sum(perm), self_sum(perm)\n",
    "        eq = perm_eqns(ns, ss, lmd, mu, beta)\n",
    "        if random.random() < eq[2] * eps:      # epsilon artificially increases the odds of selection (for speed)\n",
    "            return perm, eq\n",
    "\n",
    "def target_eqns(x, N, C, M, seed=1, nperms=100, vals=[-1, 1]):\n",
    "    lmd, mu, beta = x\n",
    "    eqns = [0] * 3\n",
    "    random.seed(seed)\n",
    "    for _ in range(nperms):\n",
    "        perm, eq = next_random_permutation(N, vals, lmd, mu, beta)\n",
    "        # print(perm, eq)\n",
    "        eqns = eqns + eq\n",
    "        # print(eqns)\n",
    "    targets = np.array([C, M, 1])\n",
    "    # print(eqns, targets, eqns-targets)\n",
    "    return eqns - targets"
   ]
  },
  {
   "cell_type": "code",
   "execution_count": 3,
   "metadata": {},
   "outputs": [],
   "source": [
    "N = 30\n",
    "C, M = 1, -1\n",
    "\n",
    "#sol = fsolve(target_eqns, (1., 1., 1.), args=(N, C, M), full_output=True, maxfev=1000)\n",
    "#sol"
   ]
  },
  {
   "cell_type": "code",
   "execution_count": 4,
   "metadata": {},
   "outputs": [
    {
     "name": "stderr",
     "output_type": "stream",
     "text": [
      "/home/amogh/anaconda3/lib/python3.7/site-packages/scipy/optimize/minpack.py:163: RuntimeWarning: The iteration is not making good progress, as measured by the \n",
      "  improvement from the last five Jacobian evaluations.\n",
      "  warnings.warn(msg, RuntimeWarning)\n"
     ]
    },
    {
     "name": "stdout",
     "output_type": "stream",
     "text": [
      "Iteration 1: results - [ 10.29358589  -9.64492335 -12.33032944]\n"
     ]
    },
    {
     "name": "stderr",
     "output_type": "stream",
     "text": [
      "/home/amogh/anaconda3/lib/python3.7/site-packages/scipy/optimize/minpack.py:163: RuntimeWarning: The iteration is not making good progress, as measured by the \n",
      "  improvement from the last ten iterations.\n",
      "  warnings.warn(msg, RuntimeWarning)\n"
     ]
    },
    {
     "name": "stdout",
     "output_type": "stream",
     "text": [
      "Iteration 2: results - [ 12.06586313 -10.40452666 -14.11601446]\n",
      "Iteration 3: results - [ 13.66672172  -5.98989125 -10.87596331]\n",
      "Iteration 4: results - [ 13.85275111  -7.65474419 -13.87751361]\n",
      "Iteration 5: results - [ 11.07236323 -10.15713849 -13.23465273]\n"
     ]
    },
    {
     "data": {
      "text/plain": [
       "array([ 12.19025702,  -8.77024479, -12.88689471])"
      ]
     },
     "execution_count": 4,
     "metadata": {},
     "output_type": "execute_result"
    }
   ],
   "source": [
    "def monte_carlo_search(N, C, M, trials=5):\n",
    "    params = np.array([1, 1, 1])\n",
    "    results = np.array([0, 0, 0])\n",
    "    for tr in range(1, trials+1):\n",
    "        sol = fsolve(target_eqns, params, args=(N, C, M, tr), maxfev=1000)\n",
    "        print(\"Iteration {}: results - {}\".format(tr, sol))\n",
    "        results = results + sol\n",
    "    results = results / trials\n",
    "    return results\n",
    "\n",
    "sol = monte_carlo_search(N, C, M)\n",
    "sol"
   ]
  },
  {
   "cell_type": "code",
   "execution_count": 11,
   "metadata": {
    "scrolled": true
   },
   "outputs": [
    {
     "name": "stdout",
     "output_type": "stream",
     "text": [
      "[-1, -1, -1, -1, -1, -1, -1, -1, -1, -1, -1, -1, -1, -1, -1, -1, -1, -1, -1, -1, -1, -1, -1, -1, -1, -1, -1, -1, -1, -1]\t1180.3981681192672\n",
      "[1, 1, 1, 1, 1, 1, 1, 1, 1, 1, 1, 1, 1, 1, 1, 1, 1, 1, 1, 1, 1, 1, 1, 1, 1, 1, 1, 1, 1, 1]\t2.8463656843264338e-05\n",
      "[ 1  1 -1  1 -1 -1  1  1  1  1  1  1  1 -1  1  1 -1 -1 -1  1 -1  1 -1 -1\n",
      " -1  1  1  1  1 -1]\t3.632190040349412e-07\n",
      "[ 1 -1  1  1  1 -1 -1  1  1 -1  1  1  1 -1 -1 -1  1  1 -1  1  1  1 -1 -1\n",
      " -1  1 -1 -1 -1  1]\t1.169547195919229e-06\n",
      "[-1  1 -1  1  1 -1 -1  1  1  1  1 -1 -1  1 -1  1 -1  1  1 -1 -1 -1 -1 -1\n",
      " -1  1 -1 -1  1  1]\t7.412739873002607e-07\n",
      "[-1 -1 -1  1  1  1  1 -1 -1  1  1  1  1  1 -1 -1 -1  1  1 -1 -1 -1  1 -1\n",
      "  1 -1 -1 -1  1 -1]\t1.9131768690005132e-05\n",
      "[ 1 -1 -1  1 -1  1  1 -1 -1 -1 -1  1 -1  1  1 -1 -1 -1  1  1  1  1 -1 -1\n",
      "  1  1 -1 -1  1  1]\t2.0986612630729762e-06\n",
      "[ 1 -1 -1 -1 -1 -1  1 -1  1  1  1 -1 -1  1  1 -1  1 -1  1  1  1  1 -1 -1\n",
      "  1 -1 -1 -1  1 -1]\t7.412739873002607e-07\n",
      "[ 1 -1 -1  1 -1 -1  1  1 -1  1 -1 -1  1  1 -1 -1  1  1 -1  1  1 -1 -1 -1\n",
      "  1  1 -1  1 -1  1]\t8.131412352290394e-08\n",
      "[ 1  1  1 -1 -1 -1 -1  1 -1 -1  1  1  1 -1 -1  1  1  1 -1  1  1 -1 -1 -1\n",
      " -1 -1  1 -1 -1  1]\t1.9131768690005132e-05\n",
      "[ 1 -1  1  1 -1  1 -1  1 -1 -1 -1  1 -1  1  1  1  1 -1 -1  1 -1  1  1 -1\n",
      " -1 -1  1 -1 -1 -1]\t1.4591185526645078e-07\n",
      "[ 1 -1 -1  1  1 -1 -1  1 -1  1  1 -1 -1  1  1 -1 -1 -1  1  1  1 -1  1  1\n",
      "  1  1 -1 -1 -1 -1]\t2.0986612630729762e-06\n",
      "[ 1  1 -1 -1 -1  1  1  1  1 -1  1  1 -1  1  1  1  1 -1  1 -1  1 -1  1  1\n",
      "  1  1  1 -1 -1 -1]\t2.0241559471661583e-07\n",
      "[ 1 -1  1 -1  1 -1 -1 -1  1  1  1 -1  1  1  1  1  1  1  1  1 -1 -1  1  1\n",
      "  1 -1 -1 -1  1  1]\t1.0283291560739892e-06\n",
      "[-1 -1 -1 -1  1  1  1 -1 -1 -1 -1  1  1  1  1 -1 -1 -1  1  1 -1  1 -1 -1\n",
      "  1 -1 -1 -1  1  1]\t3.433046736709805e-05\n",
      "[ 1 -1  1  1 -1 -1 -1 -1 -1  1  1  1 -1  1 -1 -1  1 -1 -1  1  1  1 -1 -1\n",
      "  1  1 -1  1  1  1]\t1.169547195919229e-06\n",
      "[ 1 -1  1  1  1  1 -1  1 -1  1 -1 -1 -1  1  1  1  1  1  1 -1 -1  1  1 -1\n",
      "  1 -1  1 -1  1 -1]\t1.4073178687596712e-08\n",
      "[-1 -1  1 -1  1  1 -1  1 -1 -1 -1 -1  1 -1  1  1 -1  1  1 -1  1  1 -1 -1\n",
      " -1  1 -1  1 -1  1]\t2.872118794406554e-08\n",
      "[-1  1 -1 -1 -1  1  1  1 -1 -1 -1  1 -1 -1  1 -1 -1  1  1 -1  1 -1  1 -1\n",
      " -1 -1  1 -1  1  1]\t2.618274487248297e-07\n",
      "[ 1 -1 -1 -1 -1 -1  1  1  1 -1 -1 -1  1  1 -1  1  1 -1  1 -1  1 -1 -1 -1\n",
      "  1 -1 -1 -1  1 -1]\t2.3868655098550024e-06\n",
      "[-1  1  1 -1 -1  1 -1  1  1 -1  1 -1 -1  1  1  1  1  1 -1  1 -1  1 -1 -1\n",
      "  1 -1  1 -1 -1  1]\t8.919760840899252e-09\n",
      "[-1 -1 -1 -1  1 -1 -1  1  1  1  1  1 -1  1  1 -1  1 -1  1 -1  1  1 -1 -1\n",
      " -1  1 -1  1 -1 -1]\t7.412739873002607e-07\n",
      "[-1  1  1 -1 -1  1  1 -1  1 -1  1  1 -1  1  1  1 -1  1 -1  1 -1 -1 -1 -1\n",
      "  1  1 -1 -1 -1  1]\t8.131412352290394e-08\n",
      "[-1  1  1  1 -1  1 -1  1 -1 -1 -1  1 -1  1 -1  1  1  1 -1  1  1 -1  1  1\n",
      "  1  1  1 -1  1  1]\t7.842736205865089e-09\n",
      "[-1 -1 -1  1  1 -1 -1 -1 -1  1 -1 -1 -1 -1  1 -1 -1 -1 -1  1  1 -1  1  1\n",
      "  1  1 -1  1  1 -1]\t6.16033472252413e-05\n",
      "[-1  1  1  1 -1 -1 -1 -1  1 -1  1  1  1 -1 -1 -1 -1  1  1  1 -1 -1 -1 -1\n",
      "  1  1  1  1  1  1]\t3.018520386215492e-05\n",
      "[ 1 -1 -1  1 -1 -1  1  1 -1 -1 -1  1 -1  1  1  1 -1 -1 -1  1  1  1  1 -1\n",
      "  1 -1 -1  1 -1 -1]\t7.412739873002607e-07\n",
      "[ 1 -1  1  1  1  1  1 -1 -1 -1  1  1 -1 -1  1  1 -1 -1 -1  1 -1 -1  1  1\n",
      "  1  1 -1 -1  1  1]\t3.3111689300613446e-06\n",
      "[-1 -1 -1 -1 -1 -1  1 -1  1  1 -1 -1 -1 -1  1 -1  1 -1 -1 -1  1  1 -1  1\n",
      " -1 -1  1 -1 -1  1]\t7.685588675362097e-06\n",
      "[-1 -1  1 -1 -1 -1  1  1 -1  1 -1 -1 -1  1  1  1 -1  1 -1 -1  1 -1  1 -1\n",
      " -1 -1  1 -1 -1 -1]\t4.2830440731043125e-06\n"
     ]
    }
   ],
   "source": [
    "perms = [[-1] * N]\n",
    "perms.append([1] * N)\n",
    "for _ in range(28):\n",
    "    perms.append(next_random_permutation(N, [-1, 1])[0])\n",
    "\n",
    "for perm in perms:\n",
    "    ns, ss = neighbour_sum(perm), self_sum(perm)\n",
    "    print(perm, perm_eqns(ns, ss, sol[0], sol[1], sol[2])[2], sep = \"\\t\")"
   ]
  },
  {
   "cell_type": "code",
   "execution_count": null,
   "metadata": {},
   "outputs": [],
   "source": []
  }
 ],
 "metadata": {
  "kernelspec": {
   "display_name": "Python 3",
   "language": "python",
   "name": "python3"
  },
  "language_info": {
   "codemirror_mode": {
    "name": "ipython",
    "version": 3
   },
   "file_extension": ".py",
   "mimetype": "text/x-python",
   "name": "python",
   "nbconvert_exporter": "python",
   "pygments_lexer": "ipython3",
   "version": "3.7.1"
  }
 },
 "nbformat": 4,
 "nbformat_minor": 2
}
